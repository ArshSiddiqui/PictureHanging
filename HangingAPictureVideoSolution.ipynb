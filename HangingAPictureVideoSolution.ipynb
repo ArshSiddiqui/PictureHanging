{
 "cells": [
  {
   "cell_type": "code",
   "execution_count": 1,
   "id": "a456af02",
   "metadata": {},
   "outputs": [],
   "source": [
    "# How do you hang a picture on a wall with n nails such that by removing any nail, the picture will fall down?\n",
    "#\n",
    "# I used Matt Parker's solution from this video: https://www.youtube.com/watch?v=x5h3yTxeCew.\n",
    "# This was done simply out of curiosity to see how difficult it would be to automate the process (it wasn't hard\n",
    "# at all).\n",
    "#\n",
    "# The solution presented below is not the most efficient, either in loops or in length of string used, it is simply\n",
    "# the easiest to explain."
   ]
  },
  {
   "cell_type": "code",
   "execution_count": 46,
   "id": "4411ffec",
   "metadata": {},
   "outputs": [
    {
     "name": "stdout",
     "output_type": "stream",
     "text": [
      "Enter the number of points: 4\n",
      "[1, 2, -1, -2, 3, 2, 1, -2, -1, -3, 4, 3, 1, 2, -1, -2, -3, 2, 1, -2, -1, -4]\n"
     ]
    }
   ],
   "source": [
    "# 1 = Clockwise loop around the first point\n",
    "# -1 = Counterclockwise loop around the first point\n",
    "\n",
    "numPoints = int(input(\"Enter the number of points: \"))\n",
    "\n",
    "if(numPoints == 0):\n",
    "    print(\"0\")\n",
    "    exit()\n",
    "\n",
    "one = [1, -1]\n",
    "two = [1, 2, -1, -2]\n",
    "n = two.copy()\n",
    "\n",
    "if numPoints == 1:\n",
    "    print(one)\n",
    "elif numPoints == 2:\n",
    "    print(two)\n",
    "elif numPoints > 2:\n",
    "    for i in range(3, numPoints + 1):\n",
    "        n_copy = n.copy()\n",
    "        for x in range(0, len(n_copy)):\n",
    "            n_copy[x] = -n_copy[x]\n",
    "        n += [i] + n_copy[::-1] + [-i]\n",
    "    print(n)\n",
    "        "
   ]
  },
  {
   "cell_type": "code",
   "execution_count": null,
   "id": "7eff976f",
   "metadata": {},
   "outputs": [],
   "source": []
  }
 ],
 "metadata": {
  "kernelspec": {
   "display_name": "Python 3",
   "language": "python",
   "name": "python3"
  },
  "language_info": {
   "codemirror_mode": {
    "name": "ipython",
    "version": 3
   },
   "file_extension": ".py",
   "mimetype": "text/x-python",
   "name": "python",
   "nbconvert_exporter": "python",
   "pygments_lexer": "ipython3",
   "version": "3.8.8"
  }
 },
 "nbformat": 4,
 "nbformat_minor": 5
}
